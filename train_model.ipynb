{
 "cells": [
  {
   "cell_type": "code",
   "execution_count": 11,
   "id": "be14f39f-8fb2-46b4-a413-79bcd0208c50",
   "metadata": {},
   "outputs": [
    {
     "name": "stdout",
     "output_type": "stream",
     "text": [
      "Model trained. MSE: 70.75\n"
     ]
    }
   ],
   "source": [
    "# train_model.py\n",
    "import pandas as pd\n",
    "import xgboost as xgb\n",
    "import joblib\n",
    "from sklearn.model_selection import train_test_split\n",
    "from sklearn.metrics import mean_squared_error\n",
    "\n",
    "def train_model(data_path='retail_store_inventory.csv'):\n",
    "    df = pd.read_csv(data_path)\n",
    "\n",
    "    # Feature engineering\n",
    "    df['Date'] = pd.to_datetime(df['Date'], dayfirst=True)\n",
    "\n",
    "    df['Day'] = df['Date'].dt.day\n",
    "    df['Month'] = df['Date'].dt.month\n",
    "    df['Year'] = df['Date'].dt.year\n",
    "\n",
    "    # Drop unused or high cardinality fields\n",
    "    df = df.drop(['Date', 'Store ID', 'Product ID'], axis=1)\n",
    "\n",
    "    # Convert categorical variables\n",
    "    df = pd.get_dummies(df, drop_first=True)\n",
    "\n",
    "    X = df.drop(['Units Sold'], axis=1)\n",
    "    y = df['Units Sold']\n",
    "\n",
    "    X_train, X_test, y_train, y_test = train_test_split(X, y, test_size=0.2, random_state=42)\n",
    "\n",
    "    model = xgb.XGBRegressor(n_estimators=100, learning_rate=0.1, max_depth=6, random_state=42)\n",
    "    model.fit(X_train, y_train)\n",
    "\n",
    "    y_pred = model.predict(X_test)\n",
    "    mse = mean_squared_error(y_test, y_pred)\n",
    "    print(f\"Model trained. MSE: {mse:.2f}\")\n",
    "\n",
    "    joblib.dump(model, 'xgb_demand_model.pkl')\n",
    "    joblib.dump(X.columns, 'model_features.pkl')\n",
    "\n",
    "if __name__ == '__main__':\n",
    "    train_model()\n"
   ]
  }
 ],
 "metadata": {
  "kernelspec": {
   "display_name": "Python 3 (ipykernel)",
   "language": "python",
   "name": "python3"
  },
  "language_info": {
   "codemirror_mode": {
    "name": "ipython",
    "version": 3
   },
   "file_extension": ".py",
   "mimetype": "text/x-python",
   "name": "python",
   "nbconvert_exporter": "python",
   "pygments_lexer": "ipython3",
   "version": "3.13.5"
  }
 },
 "nbformat": 4,
 "nbformat_minor": 5
}
